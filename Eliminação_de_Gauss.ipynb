{
 "cells": [
  {
   "cell_type": "markdown",
   "id": "7413768b",
   "metadata": {},
   "source": [
    "## Anotação: Preciso consertar o erro que está acontecendo na troca de linha, que em algumas matrizes funcionam e outras não, então, provoca um erro de cálculo na parte b) em diante. Além disso, necessário reduzir as linhas de código que parecem estar se repetindo e diminuir a recursividade do código."
   ]
  },
  {
   "cell_type": "markdown",
   "id": "f0b3f380",
   "metadata": {
    "id": "f0b3f380"
   },
   "source": [
    "# Eliminação de Gauss\n",
    "Consiste em transformar o sistema Ax = b em um sistema equivalente com matriz dos coeficientes triangular superior, por meio de transformações elementares\n",
    "### A . x = b ->T.E -> Â . x = ^b\n",
    "### Teorema: Seja A.x = b um sistema linear. Se:\n",
    "### a) Trocarmos duas equações;\n",
    "### b) Multiplicarmos uma equação por uma constante não-nula;\n",
    "### c) Adicionarmos um múltiplo de uma equação a outra equação.\n",
    "\n",
    "### Obteremos um sistema equivalente Â . x = ^b"
   ]
  },
  {
   "cell_type": "markdown",
   "id": "a9655184",
   "metadata": {
    "id": "a9655184"
   },
   "source": [
    "## I) Fase de eliminação"
   ]
  },
  {
   "cell_type": "code",
   "execution_count": 1,
   "id": "9970ae68",
   "metadata": {
    "id": "9970ae68"
   },
   "outputs": [],
   "source": [
    "import numpy as np # importar numpy com apelido np"
   ]
  },
  {
   "cell_type": "code",
   "execution_count": 2,
   "id": "aa61981b",
   "metadata": {
    "id": "aa61981b"
   },
   "outputs": [],
   "source": [
    "from IPython.display import clear_output\n",
    "def limpar_terminal(): # Limpar terminal\n",
    "    clear_output(wait=True)"
   ]
  },
  {
   "cell_type": "code",
   "execution_count": 3,
   "id": "43b2bd2e",
   "metadata": {
    "id": "43b2bd2e"
   },
   "outputs": [],
   "source": [
    "def imprimir_matriz(matriz):\n",
    "    for i in range(len(matriz)):\n",
    "        print(\"|\", end=\"\")\n",
    "        for j in range (len(matriz[i])):\n",
    "            print(matriz[i][j], end=\" \")\n",
    "        print(\"|\", end=\"\")\n",
    "        print(\"\")\n",
    "    print()\n",
    "\n",
    "def imprimir_vetor(vetor):\n",
    "    for i in vetor:\n",
    "        print(\"|\", end=\"\")\n",
    "        print(i, end=\" \")\n",
    "        print(\"|\", end=\"\")\n",
    "        print(\"\")\n",
    "    print()\n",
    "\n",
    "# Fixar casas decimais\n",
    "def fix_casas():\n",
    "\n",
    "    print(\"Fixar quantas casas decimais? (2~12) \", end=\"\")\n",
    "    casas_decimais = round(float(input()))\n",
    "\n",
    "    while casas_decimais < 2 or casas_decimais > 12:\n",
    "        limpar_terminal()\n",
    "        imprimir_matriz(matriz_montada())\n",
    "        print(\"Fixar quantas casas decimais? (2~12) \", end=\"\")\n",
    "        casas_decimais = round(float(input()))\n",
    "\n",
    "    print(f\"Fix = {casas_decimais}\\n\")\n",
    "    return casas_decimais"
   ]
  },
  {
   "cell_type": "markdown",
   "id": "4f242360",
   "metadata": {
    "id": "4f242360"
   },
   "source": [
    "### a) Montar matriz aumentada [A/b]"
   ]
  },
  {
   "cell_type": "code",
   "execution_count": 4,
   "id": "a6b6b2f9",
   "metadata": {
    "id": "a6b6b2f9",
    "scrolled": false
   },
   "outputs": [],
   "source": [
    "# Dados iniciais\n",
    "\n",
    "A = np.array([\n",
    "        [3, 5, 2],\n",
    "        [0, 0, 1], \n",
    "        [0, 3, 2], \n",
    "        [0, 9, 7]\n",
    "\n",
    "    ], dtype = np.float64)\n",
    "\n",
    "\"\"\"\n",
    "    Video:\n",
    "        A =\n",
    "        [3, 2, 4],\n",
    "        [1, 1, 2],\n",
    "        [4, 3, -2]\n",
    "\n",
    "        A =\n",
    "        [3, 5, 2],\n",
    "        [0, 0, 1], \n",
    "        [0, 3, 2], \n",
    "        [0, 9, 7]\n",
    "\n",
    "    Prova:\n",
    "        A =\n",
    "        [0, 6, -3, 4],\n",
    "        [0, 4, -8, 0],\n",
    "        [3, 2, 0, 1],\n",
    "        [0, 0, 3, -8]\n",
    "\n",
    "         A =\n",
    "        [15, 2, 2],\n",
    "        [1, 16, -1],\n",
    "        [2, 4, 18]\n",
    "\n",
    "\"\"\"\n",
    "b = np.array([7, 1, 6, 8], dtype=np.float64)\n",
    "\n",
    "\"\"\"\n",
    "    Vídeo:\n",
    "    b = [1, 2, 3]\n",
    "    b = [7, 1, 6, 8]\n",
    "\n",
    "    Prova:\n",
    "    b = [3, 6, -16, 22]\n",
    "    b = [4, -3, 7]\n",
    "\"\"\"\n",
    "\n",
    "# a) Montar uma matriz aumentada [A/b]\n",
    "def matriz_montada():\n",
    "\n",
    "    matriz_expandida = np.hstack((A, b.reshape(-1, 1))) # hstack adiciona o array e reshape deixa a proporção de linha e coluna 3x4\n",
    "    return matriz_expandida\n",
    "\n"
   ]
  },
  {
   "cell_type": "markdown",
   "id": "d39798ba",
   "metadata": {
    "id": "d39798ba"
   },
   "source": [
    "### b) Determinação do pivô: akk"
   ]
  },
  {
   "cell_type": "code",
   "execution_count": 5,
   "id": "2922fdfa",
   "metadata": {
    "id": "2922fdfa"
   },
   "outputs": [],
   "source": [
    "# b) Determinação do pivô\n",
    "def iniciar_pivo(matriz):\n",
    "\n",
    "    for i in range(len(matriz)):\n",
    "        indice = i\n",
    "        for j in range(len(matriz[i])):\n",
    "            if (i == j): # Se  o número for da diagonal principal e é zero\n",
    "                linha_temp = matriz[i].copy()\n",
    "                for k in range(i+1, len(matriz)): # Checar se o números abaixo é zero\n",
    "                    if abs(matriz[k][j]) > abs(matriz[indice][j]):\n",
    "                            indice = k\n",
    "                            matriz[i] = matriz[indice]\n",
    "                            matriz[indice] = linha_temp\n",
    "                            print(f\"Trocando L{i+1} por L{indice+1}\")\n",
    "\n",
    "\n",
    "\n",
    "\n",
    "    imprimir_matriz(matriz)\n",
    "    pi, pj = triangular_sup(0, matriz)\n",
    "    pivo = matriz[pi][pj]\n",
    "\n",
    "    f = fix_casas()\n",
    "    print(pivo)\n",
    "\n",
    "    lista_pivo.append(pivo)\n",
    "\n",
    "    multiplicador_linha(pi+1, pj, pivo, matriz, f) # etapa c)\n",
    "\n",
    "def triangular_sup(linha, matriz):\n",
    "\n",
    "    for i in range(linha, len(matriz)):\n",
    "        for j in range(len(matriz[i])):\n",
    "            if i == j: # Se a linha é igual a coluna a11 a22 a33 ... ann\n",
    "                for k in range(i+1, 0, -1): # Checar se o números abaixo é zero\n",
    "                    if matriz[k][j] != 0:\n",
    "                        return i, j"
   ]
  },
  {
   "cell_type": "markdown",
   "id": "f9a75ba1",
   "metadata": {
    "id": "f9a75ba1"
   },
   "source": [
    "### c) Definir os multiplicadores de linha\n",
    "    mik = aik/akk"
   ]
  },
  {
   "cell_type": "code",
   "execution_count": 6,
   "id": "2be00ba5",
   "metadata": {
    "id": "2be00ba5"
   },
   "outputs": [],
   "source": [
    "# c) Definir os multiplicadores de linha\n",
    "def multiplicador_linha(linha, coluna, pivo, matriz, f):\n",
    "    m = []\n",
    "    index = 0\n",
    "\n",
    "    print(f\"pivô = a{linha}{coluna+1} =\", pivo)\n",
    "    for i in range(linha, len(matriz), 1):\n",
    "        m_auxiliar = round((matriz[i][coluna]/pivo),f)\n",
    "\n",
    "        if m_auxiliar != 0:\n",
    "            print(f\"a{i+1}{coluna+1} =\", matriz[i][coluna])\n",
    "            m.append(m_auxiliar)\n",
    "            print(f\"multiplicador da linha {i+1} = {m[index]}\")\n",
    "        else:\n",
    "            m_auxiliar = matriz[i][coluna]/pivo\n",
    "            m.append(matriz[i][coluna]/pivo)\n",
    "        index += 1\n",
    "    print()\n",
    "    atualizar_linha(linha, m, pivo, matriz, f)"
   ]
  },
  {
   "cell_type": "code",
   "execution_count": 7,
   "id": "44252fec",
   "metadata": {
    "id": "44252fec"
   },
   "outputs": [],
   "source": [
    "# Checar se os elementos abaixo da diagonal principal são zero\n",
    "# Se for diferente de zero escolher um novo pivô\n",
    "def atualizar_pivo(linha, matriz):\n",
    "    novo_pivo = 0\n",
    "    coluna = 0\n",
    "\n",
    "    for i in range(linha, len(matriz)):\n",
    "        for j in range(len(matriz[i])):\n",
    "            if i == j: # Se a linha é igual a coluna a11 a22 a33 ... ann\n",
    "                for k in range(j-1, 0, -1): # Checar se todos os números anteriores ao elemento da diagonal principal é zero\n",
    "                    if round(matriz[i][k]) != 0:\n",
    "                        linha = i\n",
    "                        coluna = k\n",
    "                        novo_pivo = matriz[i-1][k]\n",
    "                        #print(f\"pivô = a{i}{j} = {novo_pivo}\")\n",
    "                        break\n",
    "                    if (matriz[i][k] == 0 and k == 0):\n",
    "                        linha = 0\n",
    "                        coluna = 0\n",
    "                        novo_pivo = 0\n",
    "                        break\n",
    "\n",
    "    return linha, coluna, novo_pivo"
   ]
  },
  {
   "cell_type": "markdown",
   "id": "3935ef88",
   "metadata": {
    "id": "3935ef88"
   },
   "source": [
    "### d) Atualização das linhas\n",
    "    Li <- Li - mik x Lpivô"
   ]
  },
  {
   "cell_type": "code",
   "execution_count": 8,
   "id": "47fc2daa",
   "metadata": {
    "id": "47fc2daa",
    "scrolled": false
   },
   "outputs": [],
   "source": [
    "# d) Atualização das linhas\n",
    "def atualizar_linha(linha, m, pivo, matriz, f):\n",
    "    index = 0\n",
    "\n",
    "    for i in range(linha, len(matriz)):\n",
    "        for j in range(len(matriz[i])):\n",
    "\n",
    "            matriz[i][j] = (round(matriz[i][j]-(m[index]*matriz[linha-1][j]), f))\n",
    "        if index+1 == len(m):\n",
    "            break\n",
    "        else:\n",
    "            index += 1\n",
    "\n",
    "    imprimir_matriz(matriz)\n",
    "    linha, coluna, pivo = atualizar_pivo(linha, matriz)\n",
    "    lista_pivo.append(pivo)\n",
    "    if (pivo == 0) or (pivo == lista_pivo[-2]):\n",
    "        lista_pivo.remove(pivo)\n",
    "        solucao(matriz, f)\n",
    "    else:\n",
    "        multiplicador_linha(linha, coluna, pivo, matriz, f)\n"
   ]
  },
  {
   "cell_type": "markdown",
   "id": "34734768",
   "metadata": {
    "id": "34734768"
   },
   "source": [
    "# II) Fase de substituição"
   ]
  },
  {
   "cell_type": "code",
   "execution_count": 9,
   "id": "7b96b154",
   "metadata": {
    "id": "7b96b154"
   },
   "outputs": [],
   "source": [
    "def solucao(matriz, f):\n",
    "    x = []\n",
    "\n",
    "    # Exemplo\n",
    "    ultima_linha = len(matriz)-1 # ultima_linha = 3-1 = 2\n",
    "    ultima_coluna = len(matriz[0])-1 # ultima_coluna = 4-1 = 3\n",
    "    linha = ultima_linha # linha = 2\n",
    "    coluna = ultima_coluna # coluna = 3\n",
    "\n",
    "    while linha >= 0:\n",
    "\n",
    "        xn = matriz[linha][ultima_coluna]\n",
    "        indice = 0\n",
    "\n",
    "        if linha == ultima_linha:\n",
    "                xn = xn/matriz[linha][coluna-1]\n",
    "\n",
    "        for j in range(ultima_coluna-1, coluna, -1): # Faz a resolução por linha até atingir o indice limite de x armazenados\n",
    "            xn -= (matriz[linha][j]*x[indice])\n",
    "            indice += 1\n",
    "            if indice > len(x)-1:\n",
    "                xn = xn/matriz[linha][coluna]\n",
    "                break\n",
    "\n",
    "        x.append(round((xn),f))\n",
    "        linha -= 1 # Segue a resolução das linhas anteriores a última\n",
    "        coluna = linha\n",
    "\n",
    "    x.reverse()\n",
    "\n",
    "    for i in range(0, len(x)):\n",
    "        print(f\"x{i+1} = {(x[i])}\\n\")\n",
    "    print(\"x =\")\n",
    "    imprimir_vetor(x)\n",
    "    residuo(x, f)"
   ]
  },
  {
   "cell_type": "code",
   "execution_count": 10,
   "id": "6182bb0b",
   "metadata": {
    "id": "6182bb0b"
   },
   "outputs": [],
   "source": [
    "def residuo(x, f):\n",
    "    Ax = []\n",
    "    r = 0\n",
    "\n",
    "    for i in range (len(A)):\n",
    "        indice = 0\n",
    "        Ax_aux = 0\n",
    "        for j in range(len(A[i])):\n",
    "            Ax_aux += A[i][j]*x[indice]\n",
    "            indice += 1\n",
    "        Ax.append(round((Ax_aux), f))\n",
    "    print(\"Ax =\")\n",
    "    imprimir_vetor(Ax)\n",
    "    print(\"b =\")\n",
    "    imprimir_vetor(b)\n",
    "    for i in range (len(Ax)):\n",
    "        Ax[i] = round((Ax[i] - b[i]), f)\n",
    "    print(\"Ax-b =\")\n",
    "    imprimir_vetor(Ax)\n",
    "    for elemento in Ax:\n",
    "        r_aux = elemento\n",
    "        if abs(r_aux) > r:\n",
    "            r = abs(r_aux)\n",
    "\n",
    "    print(f\"o resíduo é r = {r}\\n\")"
   ]
  },
  {
   "cell_type": "markdown",
   "id": "39b5925d",
   "metadata": {
    "id": "39b5925d"
   },
   "source": [
    "# Célula de Chamada"
   ]
  },
  {
   "cell_type": "code",
   "execution_count": 11,
   "id": "9aef8149",
   "metadata": {
    "colab": {
     "base_uri": "https://localhost:8080/"
    },
    "id": "9aef8149",
    "outputId": "c70cb26d-63ea-4c1c-8826-11ef215039ae",
    "scrolled": false
   },
   "outputs": [
    {
     "name": "stdout",
     "output_type": "stream",
     "text": [
      "Método de Eliminação de Gauss\n",
      "\n",
      "|3.0 5.0 2.0 7.0 |\n",
      "|0.0 0.0 1.0 1.0 |\n",
      "|0.0 3.0 2.0 6.0 |\n",
      "|0.0 9.0 7.0 8.0 |\n",
      "\n",
      "Trocando L2 por L3\n",
      "Trocando L2 por L4\n",
      "|3.0 5.0 2.0 7.0 |\n",
      "|0.0 9.0 7.0 8.0 |\n",
      "|0.0 0.0 1.0 1.0 |\n",
      "|0.0 0.0 1.0 1.0 |\n",
      "\n",
      "Fixar quantas casas decimais? (2~12) 4\n",
      "Fix = 4\n",
      "\n",
      "9.0\n",
      "pivô = a22 = 9.0\n",
      "\n",
      "|3.0 5.0 2.0 7.0 |\n",
      "|0.0 9.0 7.0 8.0 |\n",
      "|0.0 0.0 1.0 1.0 |\n",
      "|0.0 0.0 1.0 1.0 |\n",
      "\n",
      "pivô = a33 = 1.0\n",
      "a43 = 1.0\n",
      "multiplicador da linha 4 = 1.0\n",
      "\n",
      "|3.0 5.0 2.0 7.0 |\n",
      "|0.0 9.0 7.0 8.0 |\n",
      "|0.0 0.0 1.0 1.0 |\n",
      "|0.0 0.0 0.0 0.0 |\n",
      "\n",
      "x1 = nan\n",
      "\n",
      "x2 = nan\n",
      "\n",
      "x3 = 1.0\n",
      "\n",
      "x4 = nan\n",
      "\n",
      "x =\n",
      "|nan |\n",
      "|nan |\n",
      "|1.0 |\n",
      "|nan |\n",
      "\n",
      "Ax =\n",
      "|nan |\n",
      "|nan |\n",
      "|nan |\n",
      "|nan |\n",
      "\n",
      "b =\n",
      "|7.0 |\n",
      "|1.0 |\n",
      "|6.0 |\n",
      "|8.0 |\n",
      "\n",
      "Ax-b =\n",
      "|nan |\n",
      "|nan |\n",
      "|nan |\n",
      "|nan |\n",
      "\n",
      "o resíduo é r = 0\n",
      "\n",
      "pivo 1= 9.0\n",
      "pivo 2= 1.0\n"
     ]
    },
    {
     "name": "stderr",
     "output_type": "stream",
     "text": [
      "C:\\Users\\perei\\AppData\\Local\\Temp\\ipykernel_28908\\3091673615.py:16: RuntimeWarning: invalid value encountered in double_scalars\n",
      "  xn = xn/matriz[linha][coluna-1]\n"
     ]
    }
   ],
   "source": [
    "lista_pivo = []\n",
    "print(\"Método de Eliminação de Gauss\\n\")\n",
    "imprimir_matriz(matriz_montada())\n",
    "iniciar_pivo(matriz_montada())\n",
    "\n",
    "for i in range(len(lista_pivo)):\n",
    "    print(f\"pivo {i+1}= {lista_pivo[i]}\")"
   ]
  },
  {
   "cell_type": "code",
   "execution_count": null,
   "id": "7432cbb2",
   "metadata": {},
   "outputs": [],
   "source": []
  }
 ],
 "metadata": {
  "colab": {
   "provenance": [],
   "toc_visible": true
  },
  "kernelspec": {
   "display_name": "Python 3 (ipykernel)",
   "language": "python",
   "name": "python3"
  },
  "language_info": {
   "codemirror_mode": {
    "name": "ipython",
    "version": 3
   },
   "file_extension": ".py",
   "mimetype": "text/x-python",
   "name": "python",
   "nbconvert_exporter": "python",
   "pygments_lexer": "ipython3",
   "version": "3.9.13"
  }
 },
 "nbformat": 4,
 "nbformat_minor": 5
}
